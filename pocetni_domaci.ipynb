{
 "cells": [
  {
   "cell_type": "markdown",
   "metadata": {},
   "source": [
    "## Radna sveska - Python\n",
    "### Python kao kalkulator\n",
    "\n",
    "\n",
    "Dodaj nove ćelije i izračunaj vrednosti sledećih brojevnih izraza:\n",
    "\n",
    "\n",
    "a) 2 + 5\n",
    "\n",
    "\n"
   ]
  },
  {
   "cell_type": "code",
   "execution_count": null,
   "metadata": {},
   "outputs": [],
   "source": []
  },
  {
   "cell_type": "markdown",
   "metadata": {},
   "source": [
    "b) $2 ^ {10}$ (<i>napomena: može se otkucati kao 2 ** 10 </i>)\n",
    "\n",
    "\n",
    "\n",
    "\n"
   ]
  },
  {
   "cell_type": "code",
   "execution_count": null,
   "metadata": {},
   "outputs": [],
   "source": []
  },
  {
   "cell_type": "markdown",
   "metadata": {},
   "source": [
    "c) 1000 - 98 * 12\n",
    "\n",
    "\n",
    "\n"
   ]
  },
  {
   "cell_type": "code",
   "execution_count": null,
   "metadata": {},
   "outputs": [],
   "source": []
  },
  {
   "cell_type": "markdown",
   "metadata": {},
   "source": [
    "d) 52 / 6  (<i>deljenje</i>)\n"
   ]
  },
  {
   "cell_type": "code",
   "execution_count": null,
   "metadata": {},
   "outputs": [],
   "source": []
  },
  {
   "cell_type": "markdown",
   "metadata": {},
   "source": [
    "<h3>Promenljive - imena međurezultata</h3>\n",
    "Ponekad će nam biti potrebno da zapamtimo pojedine međurezultate. Pogledaj sledeći primer:\n",
    "\n",
    "<p>Ukupan broj učenika u svim okruzima Srbije je 249656, a broj učenica je 123281. Odrediti da li u Srbiji ima više učenica ili učenika. (Podaci preuzeti sa <a href=\"http://opendata.mpn.gov.rs/index.php?ucenici_studenti=srednje\"> linka</a> - otvoreni podaci MPNTR.</p> \n",
    "\n",
    "<p>Uradimo zajedno ovaj primer.</p>"
   ]
  },
  {
   "cell_type": "markdown",
   "metadata": {},
   "source": [
    "<p>Označimo podatke koje smo dobili na sledeći način:</p>"
   ]
  },
  {
   "cell_type": "code",
   "execution_count": 5,
   "metadata": {},
   "outputs": [],
   "source": [
    "ukupan_broj_ucenika = 249656\n",
    "broj_ucenica = 123281"
   ]
  },
  {
   "cell_type": "markdown",
   "metadata": {},
   "source": [
    "Broj učenika ćemo izračunati kada od ukupnog broja učenika oduzmemo broj učenica."
   ]
  },
  {
   "cell_type": "code",
   "execution_count": 6,
   "metadata": {},
   "outputs": [],
   "source": [
    "broj_ucenika = ukupan_broj_ucenika - broj_ucenica"
   ]
  },
  {
   "cell_type": "markdown",
   "metadata": {},
   "source": [
    "Ako želiš da vidiš koliki je ukupan broj učenika u Srbiji, to možeš učiniti tako što otkucaš sledeće:"
   ]
  },
  {
   "cell_type": "code",
   "execution_count": 10,
   "metadata": {},
   "outputs": [
    {
     "data": {
      "text/plain": [
       "126375"
      ]
     },
     "execution_count": 10,
     "metadata": {},
     "output_type": "execute_result"
    }
   ],
   "source": [
    "broj_ucenika"
   ]
  },
  {
   "cell_type": "markdown",
   "metadata": {},
   "source": [
    "Sada možemo da zaključimo da učenica ima 123281, a učenika 126375, što znači da je učenika više."
   ]
  },
  {
   "cell_type": "code",
   "execution_count": null,
   "metadata": {},
   "outputs": [],
   "source": [
    "Šta bi bio rezultat izvršavanja sledećeg koda:"
   ]
  },
  {
   "cell_type": "markdown",
   "metadata": {},
   "source": [
    "broj_ucenika > broj_ucenica"
   ]
  },
  {
   "cell_type": "code",
   "execution_count": null,
   "metadata": {},
   "outputs": [],
   "source": []
  },
  {
   "cell_type": "markdown",
   "metadata": {},
   "source": [
    "U ovom primeru podatke koji predstavljaju ukupan broj učenika u Srbiji, kao i broj učenica pridružili smo imenima ukupan_broj_ucenika i broj_ucenica. Imena koja smo dodali međurezultatima nazivaju se <b>promenljive</b>."
   ]
  },
  {
   "cell_type": "markdown",
   "metadata": {},
   "source": [
    "<h3>Minimum, maksimum, aritmetička sredina i medijana</h3>"
   ]
  },
  {
   "cell_type": "markdown",
   "metadata": {},
   "source": [
    "<h3>Zadaci:</h3>"
   ]
  },
  {
   "cell_type": "markdown",
   "metadata": {},
   "source": [
    "1. Kilogram jabuka košta 98 dinara, a cena banana je 134 dinara. \n",
    "Koliko je potrebno izdvojiti novca za 2 kilograma jabuka i 3 kilograma banana?\n"
   ]
  },
  {
   "cell_type": "code",
   "execution_count": null,
   "metadata": {},
   "outputs": [],
   "source": []
  },
  {
   "cell_type": "markdown",
   "metadata": {},
   "source": [
    "2. Za sklapanje auta - dečije igračke potrebno je 4 točka, 2 sedišta i 1 volan. Cena točka je 123 dinara, sedišta 67, a volana 89 dinara. Izračunaj koliko je potrebno novca da se sastavi 1000 komada ovih automobila."
   ]
  },
  {
   "cell_type": "code",
   "execution_count": null,
   "metadata": {},
   "outputs": [],
   "source": []
  },
  {
   "cell_type": "markdown",
   "metadata": {},
   "source": [
    "<h3>Minimum, maksimum, aritmetička sredina i medijana</h3>\n",
    "\n",
    "<p>Ocene jednog učenika možemo čuvati u promenljivama. </br></p>\n",
    "<p>matematika = 5</p>\n",
    "<p>programiranje = 5</p>\n",
    "<p>fizika = 4</p>\n",
    "<p>engleski_jezik = 5</p>\n",
    "<p>I tako redom...međutim, mnogo je jednostavnije za različita izračunavanja ako imamo ocene objedinjene ja jednom mestu. Ocene učenika ćemo zapamtiti na sledeći način:</p>\n",
    "<p>ocene = [5,5,4,5]</p>\n",
    "<p>Ovakva struktura podataka naziva se <b>lista</b>.</p>\n"
   ]
  },
  {
   "cell_type": "markdown",
   "metadata": {},
   "source": [
    "<h4>Minimum liste</h4>\n",
    "<p>Neka je data lista nekih proizvoljnih brojeva:</p>\n",
    "<p>lista = [1, 56, 3, 5, 12]</p>\n",
    "Najveći element liste naziva se maksimum liste. Izračunavamo ga na sledeći način:\n",
    "<p>najveci = max(lista)</p>\n",
    "<h4>Maksimum liste</h4>\n",
    "Najmanji element liste nativa se minimum liste. Izračunavamo ga na sledeći način:\n",
    "<p>najmanji = min(lista)</p>\n",
    "<h4>Suma</h4>\n",
    "Zbir elemenata liste izračunavamo na sledeći način:\n",
    "<p>zbir = sum(lista)</p>\n",
    "<h4>Broj elemenata liste</h4>\n",
    "Broj elemenata liste ( dužina liste) izračunavamo na sledeći način:\n",
    "<p>duzina = len(lista)<p>"
   ]
  },
  {
   "cell_type": "markdown",
   "metadata": {},
   "source": [
    "<h2>Zadaci</h2>"
   ]
  },
  {
   "cell_type": "markdown",
   "metadata": {},
   "source": [
    "1. U listi temperatura = [12, 14, 10, 8, 16, 19, 10], date su temperature vazduha u jednoj nedelji. \n",
    "Odrediti najvišu i najnižu temperaturu u toj nedelji."
   ]
  },
  {
   "cell_type": "code",
   "execution_count": null,
   "metadata": {},
   "outputs": [],
   "source": []
  },
  {
   "cell_type": "markdown",
   "metadata": {},
   "source": [
    "2. U listi prihodi = [120000, 13000, 210000, 190000,120000, 14000, 20000, 190000, 120000, 13000, 120000, 150000] date su ukupne mesečne zarade jedne porodice u toku jedne godine. Odrediti koliko je novca prihodovala ova porodica u ovoj godini."
   ]
  },
  {
   "cell_type": "code",
   "execution_count": null,
   "metadata": {},
   "outputs": [],
   "source": []
  },
  {
   "cell_type": "markdown",
   "metadata": {},
   "source": [
    "3. U prethodnom periodu jedna kompanija je organizovala nekoliko konkursa na kojima je primljen određen broj zaposlenih. Broj zaposlenih\n",
    "po konkursu dat je u sledećom listom zaposleni = [2, 14, 6, 20, 12, 8, 10, 3, 17]. Izračunati koliko je konkursa ova kompanija organizovala\n",
    "kao i koliko je radnika zaposleno."
   ]
  },
  {
   "cell_type": "code",
   "execution_count": null,
   "metadata": {},
   "outputs": [],
   "source": []
  },
  {
   "cell_type": "markdown",
   "metadata": {},
   "source": [
    "4. Ivana je položila sve ispite u prvom i drugom semestru. Ivanine ocene su date u sledećemom \n",
    "listom ocene = [10, 9, 10, 7, 9, 6, 8, 8, 6, 6, 10]. Izračunati Ivanin prosek na kraju 2. semestra."
   ]
  },
  {
   "cell_type": "code",
   "execution_count": null,
   "metadata": {},
   "outputs": [],
   "source": []
  }
 ],
 "metadata": {
  "kernelspec": {
   "display_name": "Python 3",
   "language": "python",
   "name": "python3"
  },
  "language_info": {
   "codemirror_mode": {
    "name": "ipython",
    "version": 3
   },
   "file_extension": ".py",
   "mimetype": "text/x-python",
   "name": "python",
   "nbconvert_exporter": "python",
   "pygments_lexer": "ipython3",
   "version": "3.6.8"
  }
 },
 "nbformat": 4,
 "nbformat_minor": 2
}
